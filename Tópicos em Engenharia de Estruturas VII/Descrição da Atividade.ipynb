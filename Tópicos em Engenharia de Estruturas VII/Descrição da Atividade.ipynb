{
 "cells": [
  {
   "cell_type": "markdown",
   "metadata": {},
   "source": [
    "## **_Análise não Linear Física de uma Estrutura em Forma de Barra_**"
   ]
  },
  {
   "cell_type": "markdown",
   "metadata": {},
   "source": [
    "**_Disciplina:_** Tópicos em Engenharia de Estruturas VII - Introdução à Análise Não Linear de Estruturas."
   ]
  },
  {
   "cell_type": "markdown",
   "metadata": {},
   "source": [
    "### **_Introdução_**"
   ]
  },
  {
   "cell_type": "markdown",
   "metadata": {},
   "source": [
    "Na engenharia estrutural, um problema é chamado de não linear quando a rigidez da estrutura muda conforme ela se deforma. Em outras palavras, a resistência da estrutura à deformação não é constante e varia com o deslocamento (Fuina, 2025). \n",
    "\n",
    "Sendo assim, para o desenvolvimento deste estudo implementamos um modelo numérico para avaliação da resposta estrutural de uma barra submetida a um carregamento distribuído crescente, tendo como objetivo determinar a carga distribuída máxima suportada pela estrutura antes que o deslocamento ultrapasse um valor admissível."
   ]
  },
  {
   "cell_type": "markdown",
   "metadata": {},
   "source": [
    "### **_Metodologia_**"
   ]
  },
  {
   "cell_type": "markdown",
   "metadata": {},
   "source": [
    "A metodologia empregada considera um sistema de três graus de liberdade e utiliza um método iterativo para a resolução das equações de equilíbrio. \n",
    "\n",
    "Realizou-se a simulação em Python, utilizando as bibliotecas `numpy` para operações numéricas e `plotly` para visualização dos resultados. \n",
    "\n",
    "A formulação do problema baseia-se na discretização de uma barra com três pontos de deslocamento $u_1$, $u_2$ e $u_3$. A matriz de rigidez do sistema é definida em função dos deslocamentos, do módulo de elasticidade inicial $E_0$, da área da seção transversal $S$ e do comprimento da barra $L$, conforme apresentado na função abaixo:"
   ]
  },
  {
   "cell_type": "code",
   "execution_count": null,
   "metadata": {},
   "outputs": [],
   "source": [
    "def calcular_matriz_rigidez(u1, u2, u3, E0, S, L, n):\n",
    "    factor = (2 * E0 * S) / L\n",
    "    term = n * 2 / L\n",
    "    return factor * np.array([\n",
    "        [1, 0, 0],\n",
    "        [0, 2 - term * (u3 - u1), -1 + term * (u3 - u2)],\n",
    "        [0, -1 + term * (u3 - u2), 1 - term * (u3 - u2)]\n",
    "    ])"
   ]
  },
  {
   "cell_type": "markdown",
   "metadata": {},
   "source": [
    "O sistema é solucionado de forma *iterativa*, utilizando um critério de convergência implementado na função `resolver_sistema_iterativo`, que recebe o vetor de forças $\\mathbf{F}$ e retorna os deslocamentos obtidos após a convergência:"
   ]
  },
  {
   "cell_type": "code",
   "execution_count": null,
   "metadata": {},
   "outputs": [],
   "source": [
    "def resolver_sistema_iterativo(F, tol, nMaxIterations, E0, S, L, n):\n",
    "    u_sol = np.zeros(3)\n",
    "    for i in range(nMaxIterations):\n",
    "        K = calcular_matriz_rigidez(*u_sol, E0, S, L, n)\n",
    "        u_novo = np.linalg.solve(K, F)\n",
    "        res = F - K @ u_novo\n",
    "        if np.linalg.norm(res) < tol and np.linalg.norm(u_sol - u_novo) / (np.linalg.norm(u_novo) + 1e-12) < tol:\n",
    "            return u_novo, i + 1\n",
    "        u_sol = u_novo\n",
    "    print(\"Aviso: Número máximo de iterações atingido antes da convergência.\")\n",
    "    return u_sol, nMaxIterations"
   ]
  },
  {
   "cell_type": "markdown",
   "metadata": {},
   "source": [
    "O código principal executa a simulação variando a carga distribuída $q$ até que o deslocamento máximo permitido seja atingido. Os dados são armazenados durante o processo para posterior análise gráfica."
   ]
  },
  {
   "cell_type": "markdown",
   "metadata": {},
   "source": [
    "### **_Resultados e Discussões_**"
   ]
  },
  {
   "cell_type": "markdown",
   "metadata": {},
   "source": [
    "Os resultados obtidos foram plotados utilizando a biblioteca `plotly`, gerando um gráfico que representa a relação entre a carga distribuída $q$ e o deslocamento máximo $u_3$, permitindo identificar o ponto em que a estrutura atinge sua capacidade limite."
   ]
  },
  {
   "cell_type": "code",
   "execution_count": null,
   "metadata": {},
   "outputs": [],
   "source": [
    "fig = go.Figure()\n",
    "fig.add_trace(go.Scatter(\n",
    "    x=u_max_values,\n",
    "    y=q_values,\n",
    "    mode='lines+markers',\n",
    "    name='Dados',\n",
    "    line=dict(color='blue'),\n",
    "    marker=dict(size=8)\n",
    "))\n",
    "fig.add_shape(type=\"line\",\n",
    "              x0=u_max_admissivel, y0=0,\n",
    "              x1=u_max_admissivel, y1=max(q_values) * 1.1,\n",
    "              line=dict(color=\"red\", dash=\"dash\"))\n",
    "fig.update_layout(\n",
    "    title=\"Convergência Numérica: Deslocamento u vs. Carga q\",\n",
    "    xaxis_title=\"Deslocamento máximo u (m)\",\n",
    "    yaxis_title=\"Carga distribuída q (N/m)\",\n",
    "    template=\"plotly_white\"\n",
    ")\n",
    "fig.show()"
   ]
  },
  {
   "cell_type": "markdown",
   "metadata": {},
   "source": [
    "O gráfico obtido demonstra um crescimento quase linear do deslocamento em relação à carga, seguido por uma região onde a não linearidade se torna mais evidente. Como resultado, a carga distribuída máxima suportada pela estrutura antes de ultrapassar o limite de deslocamento de 1,0 m foi de aproximadamente 1,63 N/m."
   ]
  },
  {
   "cell_type": "markdown",
   "metadata": {},
   "source": [
    "<img src=\"Gráfico Gerado.png\" width=\"500\" height=\"400\">"
   ]
  },
  {
   "cell_type": "markdown",
   "metadata": {},
   "source": [
    "Além disso, observa-se que o critério de convergência foi atendido. No entanto, em alguns pontos, o número máximo de iterações foi alcançado antes da convergência, indicando a necessidade de refinamento na malha ou na solução numérica."
   ]
  },
  {
   "cell_type": "markdown",
   "metadata": {},
   "source": [
    "### **_Conclusão_**"
   ]
  },
  {
   "cell_type": "markdown",
   "metadata": {},
   "source": [
    "O referido projeto demonstrou a aplicabilidade da análise não linear na determinação da capacidade de carga de uma estrutura simples, tal como a de uma barra. O uso de um método iterativo permitiu uma resolução eficiente, fornecendo dados precisos do deslocamento em função da carga aplicada. \n",
    "\n",
    "A implementação das bibliotecas em Python demonstrou a eficácia e agilidade dessas ferramentas na resolução numérica e visualização de resultados complexos. Por fim, a abordagem adotada se alinha às metodologias descritas por Figueiredo e Serafini (2020), reforçando a importância das técnicas numéricas na engenharia estrutural."
   ]
  },
  {
   "cell_type": "markdown",
   "metadata": {},
   "source": [
    "### **_Referências_**"
   ]
  },
  {
   "cell_type": "markdown",
   "metadata": {},
   "source": [
    "Beer, F. P.; Johnston, E. R.; Dewolf, J. T.; Mazurek, D. F. *Resistência dos Materiais*. 7. ed. McGraw-Hill, 2017."
   ]
  },
  {
   "cell_type": "markdown",
   "metadata": {},
   "source": [
    "Figueiredo, R.; Serafini, M. *Análise Não Linear de Estruturas*. São Paulo: Editora Engenharia, 2020."
   ]
  },
  {
   "cell_type": "markdown",
   "metadata": {},
   "source": [
    "Fuina, J. S. *Métodos de Controle de Deformações para Análise Não Linear de Estruturas*. Disponível em: [https://repositorio.ufmg.br/bitstream/1843/LMCA-769HM7/1/153.pdf](https://repositorio.ufmg.br/bitstream/1843/LMCA-769HM7/1/153.pdf). Acesso em: 3 abr. 2025."
   ]
  },
  {
   "cell_type": "markdown",
   "metadata": {},
   "source": [
    "Gere, J. M.; Goodno, B. J. *Mecânica dos Materiais*. 9. ed. Cengage Learning, 2020."
   ]
  }
 ],
 "metadata": {
  "kernelspec": {
   "display_name": "Python 3",
   "language": "python",
   "name": "python3"
  },
  "language_info": {
   "name": "python",
   "version": "3.12.9"
  }
 },
 "nbformat": 4,
 "nbformat_minor": 2
}
